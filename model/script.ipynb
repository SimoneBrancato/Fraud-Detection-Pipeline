{
 "cells": [
  {
   "cell_type": "code",
   "execution_count": 2,
   "id": "4e12d06c",
   "metadata": {},
   "outputs": [],
   "source": [
    "import pandas as pd\n",
    "import numpy as np\n",
    "from sklearn.preprocessing import OneHotEncoder, StandardScaler\n",
    "from sklearn.compose import ColumnTransformer\n",
    "from sklearn.pipeline import Pipeline\n",
    "from sklearn.impute import SimpleImputer"
   ]
  },
  {
   "cell_type": "code",
   "execution_count": 43,
   "id": "6a6c93b6",
   "metadata": {},
   "outputs": [],
   "source": [
    "# Load training and test datasets\n",
    "df_train = pd.read_csv(\"./data/fraudTrain.csv\")\n",
    "df_test = pd.read_csv(\"./data/fraudTest.csv\")"
   ]
  },
  {
   "cell_type": "code",
   "execution_count": 44,
   "id": "a3ab81fb-f723-49d4-9b20-ce17b18a7fda",
   "metadata": {},
   "outputs": [],
   "source": [
    "from math import radians, cos, sin, asin, sqrt\n",
    "\n",
    "def haversine(lat1, lon1, lat2, lon2):\n",
    "    R = 6371  # Earth radius in km\n",
    "    lat1, lon1, lat2, lon2 = map(radians, [lat1, lon1, lat2, lon2])\n",
    "    dlat = lat2 - lat1 \n",
    "    dlon = lon2 - lon1 \n",
    "    a = sin(dlat/2)**2 + cos(lat1)*cos(lat2)*sin(dlon/2)**2\n",
    "    c = 2 * asin(sqrt(a)) \n",
    "    return R * c\n"
   ]
  },
  {
   "cell_type": "code",
   "execution_count": 45,
   "id": "df7abaa3-1536-47f0-8aff-48b2bc4c0ca3",
   "metadata": {},
   "outputs": [],
   "source": [
    "def preprocess(df):\n",
    "    \"\"\"\n",
    "    Feature Engineering Phase (potenziata):\n",
    "     - Calcola età, ora, giorno\n",
    "     - Flag su notte/weekend\n",
    "     - Distanza utente-merchant (haversine)\n",
    "     - Log-transform per variabili skewed\n",
    "     - Statistiche utente (media/frequenza)\n",
    "     - Rimozione colonne inutili\n",
    "    \"\"\"\n",
    "\n",
    "    df = df.copy()\n",
    "\n",
    "    # Date parsing\n",
    "    df['dob'] = pd.to_datetime(df['dob'])\n",
    "    df['trans_date_trans_time'] = pd.to_datetime(df['trans_date_trans_time'])\n",
    "\n",
    "    # Età in anni\n",
    "    df['age'] = (df['trans_date_trans_time'] - df['dob']).dt.days // 365\n",
    "\n",
    "    # Tempo\n",
    "    df['hour'] = df['trans_date_trans_time'].dt.hour\n",
    "    df['day_of_week'] = df['trans_date_trans_time'].dt.dayofweek\n",
    "    df['is_night'] = df['hour'].apply(lambda x: 1 if x < 6 or x >= 22 else 0)\n",
    "    df['is_weekend'] = df['day_of_week'].apply(lambda x: 1 if x >= 5 else 0)\n",
    "\n",
    "    # Distanza geografica tra utente e merchant\n",
    "    df['distance_user_to_merch'] = df.apply(\n",
    "        lambda row: haversine(row['lat'], row['long'], row['merch_lat'], row['merch_long']),\n",
    "        axis=1\n",
    "    )\n",
    "\n",
    "    # Log-transform di variabili skewed\n",
    "    df['log_amt'] = np.log1p(df['amt'])\n",
    "    df['log_city_pop'] = np.log1p(df['city_pop'])\n",
    "    df['log_distance'] = np.log1p(df['distance_user_to_merch'])\n",
    "\n",
    "    # Statistiche user-based\n",
    "    df['user_id'] = df['cc_num'].astype(str)  # User proxy\n",
    "\n",
    "    # Numero di transazioni passate per utente (fino a quel punto)\n",
    "    df.sort_values(['user_id', 'trans_date_trans_time'], inplace=True)\n",
    "    df['tx_count_user'] = df.groupby('user_id').cumcount()\n",
    "\n",
    "    # Media mobile dell’importo (fino a quel punto)\n",
    "    df['amt_mean_user'] = df.groupby('user_id')['amt'].transform(lambda x: x.rolling(10, min_periods=1).mean())\n",
    "\n",
    "    # Rimozione colonne inutili\n",
    "    df = df.drop(columns=[\n",
    "        'trans_date_trans_time', 'dob', 'first', 'last', 'street',\n",
    "        'trans_num', 'cc_num',  # rimosso cc_num perché usato solo per aggregare\n",
    "        'amt', 'city_pop', 'distance_user_to_merch'  # rimpiazzati con log versions\n",
    "    ])\n",
    "\n",
    "    return df"
   ]
  },
  {
   "cell_type": "code",
   "execution_count": 46,
   "id": "a0bc34bc-bd56-4b46-8cd6-a2bf651b8ad8",
   "metadata": {},
   "outputs": [],
   "source": [
    "df_train = preprocess(df_train)\n",
    "df_test = preprocess(df_test)"
   ]
  },
  {
   "cell_type": "code",
   "execution_count": 47,
   "id": "1add5b71",
   "metadata": {},
   "outputs": [],
   "source": [
    "# Colonne categoriche (rimangono invariate)\n",
    "categorical_cols = ['gender', 'category', 'state', 'job']\n",
    "\n",
    "# Colonne numeriche aggiornate\n",
    "numeric_cols = [\n",
    "    'age', 'hour', 'day_of_week',\n",
    "    'is_night', 'is_weekend',\n",
    "    'log_amt', 'log_city_pop', 'log_distance',\n",
    "    'tx_count_user', 'amt_mean_user'\n",
    "]\n",
    "\n",
    "# Colonna target (rimane invariata)\n",
    "target_col = 'is_fraud'\n"
   ]
  },
  {
   "cell_type": "code",
   "execution_count": 48,
   "id": "c3bf9781",
   "metadata": {},
   "outputs": [],
   "source": [
    "# Standardizes numeric columns and transforms categorical columns in One Hot Encoding\n",
    "preprocessor = ColumnTransformer(\n",
    "    transformers=[\n",
    "        ('num', StandardScaler(), numeric_cols),\n",
    "        ('cat', OneHotEncoder(handle_unknown='ignore'), categorical_cols)\n",
    "    ]\n",
    ")"
   ]
  },
  {
   "cell_type": "code",
   "execution_count": 49,
   "id": "b2ffef92",
   "metadata": {},
   "outputs": [
    {
     "name": "stdout",
     "output_type": "stream",
     "text": [
      "True\n"
     ]
    }
   ],
   "source": [
    "import torch\n",
    "\n",
    "# Check if GPU usage is available\n",
    "print(torch.cuda.is_available()) "
   ]
  },
  {
   "cell_type": "code",
   "execution_count": 50,
   "id": "da160837-3fbe-406b-9bd2-279d235a0664",
   "metadata": {},
   "outputs": [],
   "source": [
    "# Define train and test columns\n",
    "X_train = df_train[categorical_cols + numeric_cols]\n",
    "y_train = df_train[target_col]\n",
    "\n",
    "X_test = df_test[categorical_cols + numeric_cols]\n",
    "y_test = df_test[target_col]"
   ]
  },
  {
   "cell_type": "code",
   "execution_count": 51,
   "id": "f885fcb3-6118-4dd2-ab1e-bcb073d2b1bb",
   "metadata": {},
   "outputs": [],
   "source": [
    "from xgboost import XGBClassifier\n",
    "from sklearn.model_selection import GridSearchCV, StratifiedKFold\n",
    "from sklearn.pipeline import Pipeline\n",
    "from sklearn.metrics import confusion_matrix, classification_report\n",
    "import numpy as np"
   ]
  },
  {
   "cell_type": "code",
   "execution_count": 52,
   "id": "123228d0-8113-4dde-82ae-a841d67a9b5e",
   "metadata": {},
   "outputs": [],
   "source": [
    "# Pipeline con preprocessor e XGBClassifier con impostazioni GPU\n",
    "pipeline = Pipeline([\n",
    "    ('preprocessor', preprocessor),  # il tuo preprocessore già definito\n",
    "    ('clf', XGBClassifier(\n",
    "        eval_metric='logloss', # Logarithmic Loss Function for Binary Classification\n",
    "        random_state=42,\n",
    "        verbosity=1\n",
    "    ))\n",
    "])"
   ]
  },
  {
   "cell_type": "code",
   "execution_count": 53,
   "id": "752048f1-8a88-47a4-90da-5ed41ba9db41",
   "metadata": {},
   "outputs": [
    {
     "name": "stdout",
     "output_type": "stream",
     "text": [
      "Best parameters: {'clf__colsample_bytree': 1.0, 'clf__learning_rate': 0.2, 'clf__max_depth': 12, 'clf__n_estimators': 200, 'clf__reg_alpha': 1, 'clf__reg_lambda': 10, 'clf__scale_pos_weight': 10, 'clf__subsample': 0.8}\n",
      "Best F1 score: 0.9292565947242206\n"
     ]
    }
   ],
   "source": [
    "# Hyperparameters for XGBClassifier\n",
    "param_grid = {\n",
    "    'clf__n_estimators': [200],\n",
    "    'clf__max_depth': [12],\n",
    "    'clf__learning_rate': [0.2],\n",
    "    'clf__subsample': [0.8],\n",
    "    'clf__colsample_bytree': [1.0],\n",
    "    'clf__scale_pos_weight': [10],\n",
    "    'clf__reg_alpha': [0, 1],  \n",
    "    'clf__reg_lambda': [1, 10],  \n",
    "\n",
    "}\n",
    "\n",
    "# Cross-Validation with 3 folds \n",
    "cv = StratifiedKFold(n_splits=3, shuffle=True, random_state=42)\n",
    "\n",
    "# Define Grid Search for training phase using F1-Score\n",
    "grid_search = GridSearchCV(\n",
    "    pipeline,\n",
    "    param_grid,\n",
    "    cv=cv,\n",
    "    scoring='recall',\n",
    "    n_jobs=2\n",
    ")\n",
    "\n",
    "# Training phase\n",
    "grid_search.fit(X_train, y_train)\n",
    "\n",
    "print(\"Best parameters:\", grid_search.best_params_)\n",
    "print(\"Best F1 score:\", grid_search.best_score_)\n",
    "\n",
    "best_model = grid_search.best_estimator_"
   ]
  },
  {
   "cell_type": "code",
   "execution_count": 54,
   "id": "dc743757-ac4c-44b4-b5e6-478a84cae2eb",
   "metadata": {},
   "outputs": [],
   "source": [
    "# Probabilistic predictions\n",
    "y_proba = best_model.predict_proba(X_test)[:, 1]"
   ]
  },
  {
   "cell_type": "code",
   "execution_count": 55,
   "id": "d86bc53c-9195-478b-9388-363286f851ed",
   "metadata": {},
   "outputs": [],
   "source": [
    "import matplotlib.pyplot as plt\n",
    "import seaborn as sns\n",
    "from sklearn.metrics import confusion_matrix, classification_report"
   ]
  },
  {
   "cell_type": "code",
   "execution_count": 56,
   "id": "73e25b94-5c14-4ce5-844c-2ad87e9e7ff1",
   "metadata": {},
   "outputs": [
    {
     "name": "stdout",
     "output_type": "stream",
     "text": [
      "              precision    recall  f1-score   support\n",
      "\n",
      "           0       1.00      1.00      1.00    553574\n",
      "           1       0.83      0.92      0.87      2145\n",
      "\n",
      "    accuracy                           1.00    555719\n",
      "   macro avg       0.92      0.96      0.94    555719\n",
      "weighted avg       1.00      1.00      1.00    555719\n",
      "\n"
     ]
    },
    {
     "data": {
      "image/png": "[encoded data removed]",
      "text/plain": [
       "<Figure size 600x500 with 2 Axes>"
      ]
     },
     "metadata": {},
     "output_type": "display_data"
    }
   ],
   "source": [
    "# Threshold personalizzato (es: 0.3)\n",
    "threshold = 0.3\n",
    "y_pred = (y_proba >= threshold).astype(int)\n",
    "\n",
    "import matplotlib.pyplot as plt\n",
    "import seaborn as sns\n",
    "from sklearn.metrics import confusion_matrix, classification_report\n",
    "\n",
    "# Report e confusion matrix\n",
    "print(classification_report(y_test, y_pred, digits=2))\n",
    "\n",
    "cm = confusion_matrix(y_test, y_pred)\n",
    "cm_percent = cm.astype('float') / cm.sum(axis=1)[:, np.newaxis] * 100  # percentuale per riga\n",
    "\n",
    "# Plot della confusion matrix in percentuale\n",
    "plt.figure(figsize=(6, 5))\n",
    "sns.heatmap(cm_percent, annot=True, fmt=\".2f\", cmap=\"Blues\", cbar=True,\n",
    "            xticklabels=['Legit', 'Fraud'], yticklabels=['Legit', 'Fraud'])\n",
    "\n",
    "plt.xlabel(\"Predicted Label\")\n",
    "plt.ylabel(\"True Label\")\n",
    "plt.title(f\"Confusion Matrix in Percentuale (threshold = {threshold})\")\n",
    "plt.tight_layout()\n",
    "plt.show()"
   ]
  },
  {
   "cell_type": "code",
   "execution_count": 57,
   "id": "1b0243fa-09e1-4550-a5b3-915dbe005379",
   "metadata": {},
   "outputs": [
    {
     "data": {
      "image/png": "[encoded data removed]",
      "text/plain": [
       "<Figure size 800x500 with 1 Axes>"
      ]
     },
     "metadata": {},
     "output_type": "display_data"
    }
   ],
   "source": [
    "from sklearn.metrics import precision_recall_curve\n",
    "\n",
    "prec, rec, thresholds = precision_recall_curve(y_test, y_proba)\n",
    "\n",
    "plt.figure(figsize=(8,5))\n",
    "plt.plot(thresholds, prec[:-1], label=\"Precision\")\n",
    "plt.plot(thresholds, rec[:-1], label=\"Recall\")\n",
    "plt.xlabel(\"Threshold\")\n",
    "plt.ylabel(\"Score\")\n",
    "plt.title(\"Precision-Recall vs Threshold\")\n",
    "plt.grid(True)\n",
    "plt.legend()\n",
    "plt.show()\n"
   ]
  },
  {
   "cell_type": "code",
   "execution_count": 168,
   "id": "2cc16642-84d0-4d5a-8f66-1e35aa571c35",
   "metadata": {},
   "outputs": [
    {
     "name": "stdout",
     "output_type": "stream",
     "text": [
      ">>> Training Set:\n",
      "              precision    recall  f1-score   support\n",
      "\n",
      "           0       1.00      1.00      1.00   1289169\n",
      "           1       0.99      1.00      1.00      7506\n",
      "\n",
      "    accuracy                           1.00   1296675\n",
      "   macro avg       1.00      1.00      1.00   1296675\n",
      "weighted avg       1.00      1.00      1.00   1296675\n",
      "\n",
      ">>> Test Set:\n",
      "              precision    recall  f1-score   support\n",
      "\n",
      "           0       1.00      1.00      1.00    553574\n",
      "           1       0.83      0.92      0.87      2145\n",
      "\n",
      "    accuracy                           1.00    555719\n",
      "   macro avg       0.92      0.96      0.94    555719\n",
      "weighted avg       1.00      1.00      1.00    555719\n",
      "\n"
     ]
    }
   ],
   "source": [
    "# Predizioni sul training set\n",
    "y_train_proba = best_model.predict_proba(X_train)[:, 1]\n",
    "y_train_pred = (y_train_proba >= threshold).astype(int)\n",
    "\n",
    "# Report\n",
    "from sklearn.metrics import classification_report\n",
    "\n",
    "print(\">>> Training Set:\")\n",
    "print(classification_report(y_train, y_train_pred, digits=2))\n",
    "\n",
    "print(\">>> Test Set:\")\n",
    "print(classification_report(y_test, y_pred, digits=2))"
   ]
  },
  {
   "cell_type": "code",
   "execution_count": null,
   "id": "7d7595f8-655f-4485-85d9-234c79c643f0",
   "metadata": {},
   "outputs": [],
   "source": [
    "import joblib\n",
    "joblib.dump(grid_search.best_estimator_, 'xgb_full_pipeline.pkl')"
   ]
  }
 ],
 "metadata": {
  "kernelspec": {
   "display_name": "Python 3",
   "language": "python",
   "name": "python3"
  },
  "language_info": {
   "codemirror_mode": {
    "name": "ipython",
    "version": 3
   },
   "file_extension": ".py",
   "mimetype": "text/x-python",
   "name": "python",
   "nbconvert_exporter": "python",
   "pygments_lexer": "ipython3",
   "version": "3.11.0"
  }
 },
 "nbformat": 4,
 "nbformat_minor": 5
}
